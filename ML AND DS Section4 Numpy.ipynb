{
 "cells": [
  {
   "cell_type": "markdown",
   "id": "bb252c39",
   "metadata": {},
   "source": [
    "## Lecture : 1 \n",
    "> ### Topic : Numpy Arrays"
   ]
  },
  {
   "cell_type": "code",
   "execution_count": null,
   "id": "d0879c08",
   "metadata": {},
   "outputs": [],
   "source": [
    "import numpy as np"
   ]
  },
  {
   "cell_type": "code",
   "execution_count": 3,
   "id": "7e83cc66",
   "metadata": {},
   "outputs": [],
   "source": [
    "newList = [1,2,3,4]"
   ]
  },
  {
   "cell_type": "code",
   "execution_count": 4,
   "id": "cc20e990",
   "metadata": {
    "scrolled": true
   },
   "outputs": [
    {
     "data": {
      "text/plain": [
       "array([1, 2, 3, 4])"
      ]
     },
     "execution_count": 4,
     "metadata": {},
     "output_type": "execute_result"
    }
   ],
   "source": [
    "np.array(newList)"
   ]
  },
  {
   "cell_type": "code",
   "execution_count": 5,
   "id": "aece7008",
   "metadata": {},
   "outputs": [],
   "source": [
    "newArr = np.array(newList)"
   ]
  },
  {
   "cell_type": "code",
   "execution_count": 6,
   "id": "4fb497ed",
   "metadata": {},
   "outputs": [
    {
     "data": {
      "text/plain": [
       "numpy.ndarray"
      ]
     },
     "execution_count": 6,
     "metadata": {},
     "output_type": "execute_result"
    }
   ],
   "source": [
    "type(newArr)"
   ]
  },
  {
   "cell_type": "code",
   "execution_count": 7,
   "id": "9e4c61a7",
   "metadata": {},
   "outputs": [],
   "source": [
    "Matrix = [[1,2,3],[4,5,6],[7,8,9]]"
   ]
  },
  {
   "cell_type": "code",
   "execution_count": 8,
   "id": "9ecfe986",
   "metadata": {},
   "outputs": [
    {
     "data": {
      "text/plain": [
       "array([[1, 2, 3],\n",
       "       [4, 5, 6],\n",
       "       [7, 8, 9]])"
      ]
     },
     "execution_count": 8,
     "metadata": {},
     "output_type": "execute_result"
    }
   ],
   "source": [
    "np.array(Matrix)"
   ]
  },
  {
   "cell_type": "code",
   "execution_count": 9,
   "id": "3a7cbd31",
   "metadata": {},
   "outputs": [],
   "source": [
    "#np.arange(<Starting point>, <Ending point>, <Stepvalue>) creates an array from scratch \n",
    "arangeArray = np.arange(0,12,3)"
   ]
  },
  {
   "cell_type": "code",
   "execution_count": 10,
   "id": "b8daa3d5",
   "metadata": {},
   "outputs": [
    {
     "data": {
      "text/plain": [
       "array([0, 3, 6, 9])"
      ]
     },
     "execution_count": 10,
     "metadata": {},
     "output_type": "execute_result"
    }
   ],
   "source": [
    "arangeArray"
   ]
  },
  {
   "cell_type": "code",
   "execution_count": 12,
   "id": "79ec53a3",
   "metadata": {
    "scrolled": true
   },
   "outputs": [
    {
     "data": {
      "text/plain": [
       "array([0.7795546 , 0.22533266, 0.55847512, 0.73470466, 0.30156032,\n",
       "       0.23438593, 0.06744383, 0.35949015, 0.52916662, 0.9723208 ,\n",
       "       0.95098647, 0.64318176, 0.67585945, 0.9599073 , 0.99587054,\n",
       "       0.24279403, 0.2082484 , 0.03348852, 0.30739302, 0.01047308,\n",
       "       0.67811254, 0.64454595, 0.4278828 , 0.87024255, 0.14980779,\n",
       "       0.23954607, 0.4449641 , 0.02912608, 0.5391902 , 0.33984415,\n",
       "       0.06660993, 0.424592  , 0.25291563, 0.38848638, 0.20490707,\n",
       "       0.26310304, 0.39494561, 0.31356502, 0.67182338, 0.68004675,\n",
       "       0.13986499, 0.38115921, 0.11864477, 0.46819522, 0.42800412,\n",
       "       0.43966535, 0.05208484, 0.19848344, 0.28689372, 0.48975769])"
      ]
     },
     "execution_count": 12,
     "metadata": {},
     "output_type": "execute_result"
    }
   ],
   "source": [
    "# Numpy comes with its own random module\n",
    "#np.random.rand() returns a linear array of random integers from range [0,1) which means closed on 0 and open on 1 \n",
    "np.random.rand(50)"
   ]
  },
  {
   "cell_type": "code",
   "execution_count": 13,
   "id": "c237bae8",
   "metadata": {},
   "outputs": [
    {
     "data": {
      "text/plain": [
       "array([[0.31078872, 0.86662591, 0.18299053, 0.61897914, 0.09835332,\n",
       "        0.41675013],\n",
       "       [0.80336533, 0.46297291, 0.19359342, 0.71023301, 0.98914358,\n",
       "        0.4145277 ],\n",
       "       [0.6328614 , 0.56535223, 0.32622727, 0.98632582, 0.46061122,\n",
       "        0.61384259],\n",
       "       [0.10269638, 0.36746016, 0.39060861, 0.52819816, 0.7871609 ,\n",
       "        0.98986204],\n",
       "       [0.62548693, 0.25733216, 0.30495839, 0.6493505 , 0.16812148,\n",
       "        0.18825365]])"
      ]
     },
     "execution_count": 13,
     "metadata": {},
     "output_type": "execute_result"
    }
   ],
   "source": [
    "np.random.rand(5,6)"
   ]
  },
  {
   "cell_type": "code",
   "execution_count": 2,
   "id": "960b1b3e",
   "metadata": {},
   "outputs": [],
   "source": [
    "import numpy as np"
   ]
  },
  {
   "cell_type": "code",
   "execution_count": 4,
   "id": "1d341b16",
   "metadata": {},
   "outputs": [
    {
     "data": {
      "text/plain": [
       "array([[0., 0., 0., 0., 0.],\n",
       "       [0., 0., 0., 0., 0.],\n",
       "       [0., 0., 0., 0., 0.],\n",
       "       [0., 0., 0., 0., 0.],\n",
       "       [0., 0., 0., 0., 0.]])"
      ]
     },
     "execution_count": 4,
     "metadata": {},
     "output_type": "execute_result"
    }
   ],
   "source": [
    "#The zeros() returns an array of floating point zeros\n",
    "np.zeros((5,5))"
   ]
  },
  {
   "cell_type": "code",
   "execution_count": 5,
   "id": "10287288",
   "metadata": {},
   "outputs": [
    {
     "data": {
      "text/plain": [
       "array([[1., 1., 1., 1., 1.],\n",
       "       [1., 1., 1., 1., 1.],\n",
       "       [1., 1., 1., 1., 1.],\n",
       "       [1., 1., 1., 1., 1.],\n",
       "       [1., 1., 1., 1., 1.]])"
      ]
     },
     "execution_count": 5,
     "metadata": {},
     "output_type": "execute_result"
    }
   ],
   "source": [
    "#The ones() is  very similar to zeros() it returns an array of floating point ones\n",
    "np.ones((5,5))"
   ]
  },
  {
   "cell_type": "code",
   "execution_count": 6,
   "id": "877ae148",
   "metadata": {},
   "outputs": [
    {
     "data": {
      "text/plain": [
       "array([ 5.  ,  6.25,  7.5 ,  8.75, 10.  ])"
      ]
     },
     "execution_count": 6,
     "metadata": {},
     "output_type": "execute_result"
    }
   ],
   "source": [
    "# np.linspace(<Starting Point> , <Ending Point> ,<StepValue>)\n",
    "#This Creates an array of evenly spaced numbers \n",
    "# End point is also included \n",
    "np.linspace(5,10,5)"
   ]
  },
  {
   "cell_type": "code",
   "execution_count": 7,
   "id": "2d920af8",
   "metadata": {},
   "outputs": [
    {
     "data": {
      "text/plain": [
       "array([[-0.06113308,  0.25396002, -0.00760264, -1.36606633, -1.34113167],\n",
       "       [-0.48640953, -1.67419588,  0.9937407 ,  0.23481058,  0.43147843],\n",
       "       [-0.14276547, -2.54701149, -1.41244382,  0.08166875, -0.99514346],\n",
       "       [-1.27244638,  0.89979971,  0.97799826, -0.02475346, -0.26267673],\n",
       "       [ 1.47049808,  0.57844118,  0.52911435,  2.23598585, -1.06788681]])"
      ]
     },
     "execution_count": 7,
     "metadata": {},
     "output_type": "execute_result"
    }
   ],
   "source": [
    "'''Returns an Array in form of a Standard normal distribution\n",
    "with mean value of zero and variance of 1 '''\n",
    "np.random.randn(5,5)"
   ]
  },
  {
   "cell_type": "code",
   "execution_count": 8,
   "id": "5bd7a490",
   "metadata": {},
   "outputs": [
    {
     "data": {
      "text/plain": [
       "array([[28, 23, 27, 38, 34],\n",
       "       [14, 38, 31, 30,  4],\n",
       "       [29, 23, 38, 16, 38],\n",
       "       [12, 14, 15, 12, 13]])"
      ]
     },
     "execution_count": 8,
     "metadata": {},
     "output_type": "execute_result"
    }
   ],
   "source": [
    "#Returns an array of random integers \n",
    "np.random.randint(2,40,(4,5))"
   ]
  },
  {
   "cell_type": "code",
   "execution_count": 10,
   "id": "0bcd7002",
   "metadata": {},
   "outputs": [
    {
     "data": {
      "text/plain": [
       "array([4.17022005e-01, 7.20324493e-01, 1.14374817e-04, 3.02332573e-01,\n",
       "       1.46755891e-01])"
      ]
     },
     "execution_count": 10,
     "metadata": {},
     "output_type": "execute_result"
    }
   ],
   "source": [
    "#Remembers the random array created by rand function \n",
    "np.random.seed(1)\n",
    "np.random.rand(5)"
   ]
  },
  {
   "cell_type": "code",
   "execution_count": 11,
   "id": "f887fe2a",
   "metadata": {},
   "outputs": [
    {
     "data": {
      "text/plain": [
       "array([[ 0,  1,  2,  3,  4],\n",
       "       [ 5,  6,  7,  8,  9],\n",
       "       [10, 11, 12, 13, 14],\n",
       "       [15, 16, 17, 18, 19],\n",
       "       [20, 21, 22, 23, 24]])"
      ]
     },
     "execution_count": 11,
     "metadata": {},
     "output_type": "execute_result"
    }
   ],
   "source": [
    "# The reshape() rearranges the matrix in a specific shape \n",
    "Arr = np.arange(0,25)\n",
    "Arr.reshape(5,5) # <--- Shape 5 rows by 5 colmns "
   ]
  },
  {
   "cell_type": "code",
   "execution_count": 15,
   "id": "ac96dc7b",
   "metadata": {},
   "outputs": [
    {
     "name": "stdout",
     "output_type": "stream",
     "text": [
      "2189\n",
      "1110\n",
      "2\n",
      "1\n"
     ]
    }
   ],
   "source": [
    "Arr = np.random.randint(0,2450, 4)\n",
    "# The <Array_Name>.max()---> Returns the maximum numerical value element of the Array\n",
    "print(Arr.max())\n",
    "# The <Array_Name>.min()---> Returns the minimum numerical value element of the Array\n",
    "print(Arr.min())\n",
    "# The <Array_Name>.argmax()---> Returns the index of maximum numerical value element of the Array\n",
    "print(Arr.argmax())\n",
    "# The <Array_Name>.argmin()---> Returns the index of minimum numerical value element of the Array\n",
    "print(Arr.argmin())"
   ]
  },
  {
   "cell_type": "code",
   "execution_count": 19,
   "id": "10fa1824",
   "metadata": {},
   "outputs": [
    {
     "data": {
      "text/plain": [
       "(4,)"
      ]
     },
     "execution_count": 19,
     "metadata": {},
     "output_type": "execute_result"
    }
   ],
   "source": [
    "# Returns the Shape of the Array \n",
    "Arr.shape\n"
   ]
  },
  {
   "cell_type": "markdown",
   "id": "34de075b",
   "metadata": {},
   "source": [
    " ## Lecture : 2 \n",
    " > ### Topic : Indexing and Selection\n",
    " "
   ]
  },
  {
   "cell_type": "code",
   "execution_count": null,
   "id": "23c3f437",
   "metadata": {},
   "outputs": [],
   "source": []
  }
 ],
 "metadata": {
  "kernelspec": {
   "display_name": "Python 3 (ipykernel)",
   "language": "python",
   "name": "python3"
  },
  "language_info": {
   "codemirror_mode": {
    "name": "ipython",
    "version": 3
   },
   "file_extension": ".py",
   "mimetype": "text/x-python",
   "name": "python",
   "nbconvert_exporter": "python",
   "pygments_lexer": "ipython3",
   "version": "3.9.12"
  }
 },
 "nbformat": 4,
 "nbformat_minor": 5
}
