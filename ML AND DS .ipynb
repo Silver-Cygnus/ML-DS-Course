{
 "cells": [
  {
   "cell_type": "code",
   "execution_count": 1,
   "id": "4f7c1f64",
   "metadata": {},
   "outputs": [],
   "source": [
    "import numpy as np"
   ]
  },
  {
   "cell_type": "code",
   "execution_count": 2,
   "id": "3dccaedb",
   "metadata": {},
   "outputs": [
    {
     "data": {
      "text/plain": [
       "<module 'numpy' from '/opt/anaconda3/lib/python3.9/site-packages/numpy/__init__.py'>"
      ]
     },
     "execution_count": 2,
     "metadata": {},
     "output_type": "execute_result"
    }
   ],
   "source": [
    "np"
   ]
  },
  {
   "cell_type": "code",
   "execution_count": 3,
   "id": "7e83cc66",
   "metadata": {},
   "outputs": [],
   "source": [
    "newList = [1,2,3,4]"
   ]
  },
  {
   "cell_type": "code",
   "execution_count": 4,
   "id": "cc20e990",
   "metadata": {},
   "outputs": [
    {
     "data": {
      "text/plain": [
       "array([1, 2, 3, 4])"
      ]
     },
     "execution_count": 4,
     "metadata": {},
     "output_type": "execute_result"
    }
   ],
   "source": [
    "np.array(newList)"
   ]
  },
  {
   "cell_type": "code",
   "execution_count": 5,
   "id": "aece7008",
   "metadata": {},
   "outputs": [],
   "source": [
    "newArr = np.array(newList)"
   ]
  },
  {
   "cell_type": "code",
   "execution_count": 6,
   "id": "4fb497ed",
   "metadata": {},
   "outputs": [
    {
     "data": {
      "text/plain": [
       "numpy.ndarray"
      ]
     },
     "execution_count": 6,
     "metadata": {},
     "output_type": "execute_result"
    }
   ],
   "source": [
    "type(newArr)"
   ]
  },
  {
   "cell_type": "code",
   "execution_count": 7,
   "id": "9e4c61a7",
   "metadata": {},
   "outputs": [],
   "source": [
    "Matrix = [[1,2,3],[4,5,6],[7,8,9]]"
   ]
  },
  {
   "cell_type": "code",
   "execution_count": 8,
   "id": "9ecfe986",
   "metadata": {},
   "outputs": [
    {
     "data": {
      "text/plain": [
       "array([[1, 2, 3],\n",
       "       [4, 5, 6],\n",
       "       [7, 8, 9]])"
      ]
     },
     "execution_count": 8,
     "metadata": {},
     "output_type": "execute_result"
    }
   ],
   "source": [
    "np.array(Matrix)"
   ]
  },
  {
   "cell_type": "code",
   "execution_count": 9,
   "id": "3a7cbd31",
   "metadata": {},
   "outputs": [],
   "source": [
    "arangeArray = np.arange(0,12,3)"
   ]
  },
  {
   "cell_type": "code",
   "execution_count": 10,
   "id": "b8daa3d5",
   "metadata": {},
   "outputs": [
    {
     "data": {
      "text/plain": [
       "array([0, 3, 6, 9])"
      ]
     },
     "execution_count": 10,
     "metadata": {},
     "output_type": "execute_result"
    }
   ],
   "source": [
    "arangeArray"
   ]
  },
  {
   "cell_type": "code",
   "execution_count": 12,
   "id": "79ec53a3",
   "metadata": {
    "scrolled": true
   },
   "outputs": [
    {
     "data": {
      "text/plain": [
       "array([0.7795546 , 0.22533266, 0.55847512, 0.73470466, 0.30156032,\n",
       "       0.23438593, 0.06744383, 0.35949015, 0.52916662, 0.9723208 ,\n",
       "       0.95098647, 0.64318176, 0.67585945, 0.9599073 , 0.99587054,\n",
       "       0.24279403, 0.2082484 , 0.03348852, 0.30739302, 0.01047308,\n",
       "       0.67811254, 0.64454595, 0.4278828 , 0.87024255, 0.14980779,\n",
       "       0.23954607, 0.4449641 , 0.02912608, 0.5391902 , 0.33984415,\n",
       "       0.06660993, 0.424592  , 0.25291563, 0.38848638, 0.20490707,\n",
       "       0.26310304, 0.39494561, 0.31356502, 0.67182338, 0.68004675,\n",
       "       0.13986499, 0.38115921, 0.11864477, 0.46819522, 0.42800412,\n",
       "       0.43966535, 0.05208484, 0.19848344, 0.28689372, 0.48975769])"
      ]
     },
     "execution_count": 12,
     "metadata": {},
     "output_type": "execute_result"
    }
   ],
   "source": [
    "np.random.rand(50)"
   ]
  },
  {
   "cell_type": "code",
   "execution_count": 13,
   "id": "c237bae8",
   "metadata": {},
   "outputs": [
    {
     "data": {
      "text/plain": [
       "array([[0.31078872, 0.86662591, 0.18299053, 0.61897914, 0.09835332,\n",
       "        0.41675013],\n",
       "       [0.80336533, 0.46297291, 0.19359342, 0.71023301, 0.98914358,\n",
       "        0.4145277 ],\n",
       "       [0.6328614 , 0.56535223, 0.32622727, 0.98632582, 0.46061122,\n",
       "        0.61384259],\n",
       "       [0.10269638, 0.36746016, 0.39060861, 0.52819816, 0.7871609 ,\n",
       "        0.98986204],\n",
       "       [0.62548693, 0.25733216, 0.30495839, 0.6493505 , 0.16812148,\n",
       "        0.18825365]])"
      ]
     },
     "execution_count": 13,
     "metadata": {},
     "output_type": "execute_result"
    }
   ],
   "source": [
    "np.random.rand(5,6)"
   ]
  },
  {
   "cell_type": "code",
   "execution_count": null,
   "id": "b6c2a5fe",
   "metadata": {},
   "outputs": [],
   "source": []
  }
 ],
 "metadata": {
  "kernelspec": {
   "display_name": "Python 3 (ipykernel)",
   "language": "python",
   "name": "python3"
  },
  "language_info": {
   "codemirror_mode": {
    "name": "ipython",
    "version": 3
   },
   "file_extension": ".py",
   "mimetype": "text/x-python",
   "name": "python",
   "nbconvert_exporter": "python",
   "pygments_lexer": "ipython3",
   "version": "3.9.12"
  }
 },
 "nbformat": 4,
 "nbformat_minor": 5
}
